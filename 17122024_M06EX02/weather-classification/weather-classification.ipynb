{
 "cells": [
  {
   "cell_type": "code",
   "execution_count": 1,
   "id": "7d0bdd3d",
   "metadata": {},
   "outputs": [],
   "source": [
    "import torch\n",
    "import torch.nn as nn\n",
    "import torch.nn.functional as F\n",
    "import os\n",
    "import random\n",
    "import numpy as np\n",
    "import pandas as pd\n",
    "import matplotlib.pyplot as plt\n",
    "from tqdm import tqdm\n",
    "\n",
    "from PIL import Image\n",
    "from torch.utils.data import Dataset, DataLoader\n",
    "from sklearn.model_selection import train_test_split"
   ]
  },
  {
   "cell_type": "markdown",
   "id": "abcb5fe7",
   "metadata": {},
   "source": [
    "DEFINE ALL SEEDS"
   ]
  },
  {
   "cell_type": "code",
   "execution_count": 2,
   "id": "949b85a3",
   "metadata": {},
   "outputs": [],
   "source": [
    "def set_seed(seed):\n",
    "    random.seed(seed)\n",
    "    np.random.seed(seed)\n",
    "    torch.manual_seed(seed)\n",
    "    torch.cuda.manual_seed_all(seed)\n",
    "    torch.cuda.manual_seed(seed)\n",
    "    torch.backends.cudnn.deterministic = True\n",
    "    torch.backends.cudnn.benchmark = False\n",
    "\n",
    "seed = 59\n",
    "set_seed(seed)"
   ]
  },
  {
   "cell_type": "markdown",
   "id": "d0664fc0",
   "metadata": {},
   "source": [
    "PREPROCESSING"
   ]
  },
  {
   "cell_type": "code",
   "execution_count": 3,
   "id": "436cb741",
   "metadata": {},
   "outputs": [],
   "source": [
    "ROOT_DIR = \"./img_cls_weather_dataset/weather-dataset/dataset\"\n",
    "\n",
    "# Creating classes dictionary\n",
    "classes = {\n",
    "    label_idx : class_name for label_idx, class_name in enumerate(sorted(os.listdir(ROOT_DIR)))\n",
    "}"
   ]
  },
  {
   "cell_type": "code",
   "execution_count": 4,
   "id": "0d90111a",
   "metadata": {},
   "outputs": [
    {
     "name": "stdout",
     "output_type": "stream",
     "text": [
      "Classes:  {0: 'dew', 1: 'fogsmog', 2: 'frost', 3: 'glaze', 4: 'hail', 5: 'lightning', 6: 'rain', 7: 'rainbow', 8: 'rime', 9: 'sandstorm', 10: 'snow'}\n"
     ]
    }
   ],
   "source": [
    "print(\"Classes: \", classes)"
   ]
  },
  {
   "cell_type": "code",
   "execution_count": 5,
   "id": "24784934",
   "metadata": {},
   "outputs": [],
   "source": [
    "# Creating a list of image paths and their corresponding labels\n",
    "img_paths = []\n",
    "labels = []\n",
    "for label_idx, class_name in classes.items():\n",
    "    class_dir = os.path.join(ROOT_DIR, class_name)\n",
    "    for img_name in os.listdir(class_dir):\n",
    "        img_paths.append(os.path.join(class_dir, img_name))\n",
    "        labels.append(label_idx)"
   ]
  },
  {
   "cell_type": "code",
   "execution_count": 6,
   "id": "32b53311",
   "metadata": {},
   "outputs": [],
   "source": [
    "# Split train, val, test\n",
    "val_size = 0.2\n",
    "test_size = 0.125\n",
    "is_shuffle = True\n",
    "\n",
    "x_train, x_val, y_train, y_val = train_test_split(\n",
    "    img_paths, labels, test_size=val_size, random_state=seed, shuffle=is_shuffle\n",
    ")\n",
    "\n",
    "x_train, x_test, y_train, y_test = train_test_split(\n",
    "    x_train, y_train, test_size=test_size, random_state=seed, shuffle=is_shuffle\n",
    ")"
   ]
  },
  {
   "cell_type": "code",
   "execution_count": 7,
   "id": "105b4638",
   "metadata": {},
   "outputs": [],
   "source": [
    "# Creating a list of image paths and their corresponding labels\n",
    "class WeatherDataset(Dataset): # inherit from Dataset library\n",
    "    def __init__(self, x, y, transform=None):\n",
    "        self.img_paths = x\n",
    "        self.labels = y\n",
    "        self.transform = transform\n",
    "    \n",
    "    def __len__(self):\n",
    "        return len(self.img_paths)\n",
    "    \n",
    "    def __getitem__(self, idx):\n",
    "        img_path = self.img_paths[idx]\n",
    "        img = Image.open(img_path).convert(\"RGB\")\n",
    "\n",
    "        if self.transform:\n",
    "            img = self.transform(img)\n",
    "\n",
    "        return img, self.labels[idx]\n",
    "    \n",
    "# Transform img function\n",
    "def transform(img, img_size=(224, 224)):\n",
    "    img = img.resize(img_size)\n",
    "    img = np.array(img)[..., :3] # Remove alpha channel (RGBA) if present \n",
    "    img = torch.tensor(img, dtype=torch.float32).permute(2, 0, 1) # HWC to CHW\n",
    "    img = img / 255.0\n",
    "    return img"
   ]
  },
  {
   "cell_type": "code",
   "execution_count": 8,
   "id": "9f41cde6",
   "metadata": {},
   "outputs": [],
   "source": [
    "# Creating datasets\n",
    "train_dataset = WeatherDataset(x_train, y_train, transform=transform)\n",
    "val_dataset = WeatherDataset(x_val, y_val, transform=transform)\n",
    "test_dataset = WeatherDataset(x_test, y_test, transform=transform)\n",
    "\n",
    "# Creating dataloaders\n",
    "train_batch_size = 256\n",
    "test_batch_size = 16\n",
    "\n",
    "train_loader = DataLoader(train_dataset, batch_size=train_batch_size, shuffle=True)\n",
    "val_loader = DataLoader(val_dataset, batch_size=test_batch_size, shuffle=False)\n",
    "test_loader = DataLoader(test_dataset, batch_size=test_batch_size, shuffle=False)"
   ]
  },
  {
   "cell_type": "markdown",
   "id": "411cc196",
   "metadata": {},
   "source": [
    "BUILDING MODEL"
   ]
  },
  {
   "cell_type": "markdown",
   "id": "b26bd214",
   "metadata": {},
   "source": [
    "Building Residual block"
   ]
  },
  {
   "cell_type": "code",
   "execution_count": 9,
   "id": "bb53b16e",
   "metadata": {},
   "outputs": [],
   "source": [
    "class ResidualBlock(nn.Module):\n",
    "    def __init__(self, in_channels, out_channels, stride=1):\n",
    "        super(ResidualBlock, self).__init__()\n",
    "        self.conv1 = nn.Conv2d(in_channels, out_channels, kernel_size=3, stride=stride, padding=1)\n",
    "        self.batchnorm1 = nn.BatchNorm2d(out_channels)\n",
    "        self.conv2 = nn.Conv2d(out_channels, out_channels, kernel_size=3, stride=1, padding=1)\n",
    "        self.batchnorm2 = nn.BatchNorm2d(out_channels)\n",
    "        self.downsample = nn.Sequential()\n",
    "        if stride != 1 or in_channels != out_channels:\n",
    "            self.downsample = nn.Sequential(\n",
    "                nn.Conv2d(in_channels, out_channels, kernel_size=1, stride=stride), # stride is the same maxpooling and change the same channels\n",
    "                nn.BatchNorm2d(out_channels),\n",
    "            )\n",
    "        self.relu = nn.ReLU(inplace=True)\n",
    "    def forward(self, x):\n",
    "        shortcut = x.clone()\n",
    "        x = self.conv1(x)\n",
    "        x = self.batchnorm1(x)\n",
    "        x = self.relu(x)\n",
    "        x = self.conv2(x)\n",
    "        x = self.batchnorm2(x)\n",
    "        x += self.downsample(shortcut)\n",
    "        x = self.relu(x)\n",
    "\n",
    "        return x"
   ]
  },
  {
   "cell_type": "markdown",
   "id": "9f302d16",
   "metadata": {},
   "source": [
    "Building ResNet"
   ]
  },
  {
   "cell_type": "code",
   "execution_count": 10,
   "id": "4bfaf5a2",
   "metadata": {},
   "outputs": [],
   "source": [
    "class ResNet(nn.Module):\n",
    "    # n_block_list is a list of integers. Each integer specifies how many residual blocks to use in each of the four main stages of the ResNet. \n",
    "    def __init__(self, residual_block, n_block_list, num_classes):\n",
    "        super(ResNet, self).__init__()\n",
    "        self.conv1 = nn.Conv2d(3, 64, kernel_size=7, stride=2)\n",
    "        self.batch_norm1 = nn.BatchNorm2d(64)\n",
    "        self.relu = nn.ReLU(inplace=True)\n",
    "        self.maxpool = nn.MaxPool2d(kernel_size=3, stride=2, padding=1)\n",
    "        self.conv2 = self.create_layer(residual_block, 64, 64, n_block_list[0], stride=1)\n",
    "        self.conv3 = self.create_layer(residual_block, 64, 128, n_block_list[1], stride=2)\n",
    "        self.conv4 = self.create_layer(residual_block, 128, 256, n_block_list[2], stride=2)\n",
    "        self.conv5 = self.create_layer(residual_block, 256, 512, n_block_list[3], stride=2)\n",
    "        self.avgpool = nn.AdaptiveAvgPool2d((1, 1))\n",
    "        self.flatten = nn.Flatten()\n",
    "        self.fc1 = nn.Linear(512, num_classes)\n",
    "    \n",
    "    def create_layer(self, residual_block, in_channels, out_channels, n_blocks, stride):\n",
    "        blocks = []\n",
    "        first_block = residual_block(in_channels, out_channels, stride)\n",
    "        blocks.append(first_block)\n",
    "        for idx in range(1, n_blocks):\n",
    "            block = residual_block(out_channels, out_channels, stride=1)\n",
    "            blocks.append(block)\n",
    "\n",
    "        block_sequential = nn.Sequential(*blocks)\n",
    "        return block_sequential\n",
    "    \n",
    "    def forward(self, x):\n",
    "        x = self.conv1(x)\n",
    "        x = self.batch_norm1(x)\n",
    "        x = self.relu(x)\n",
    "        x = self.maxpool(x)\n",
    "        x = self.conv2(x)\n",
    "        x = self.conv3(x)\n",
    "        x = self.conv4(x)\n",
    "        x = self.conv5(x)\n",
    "        x = self.avgpool(x)\n",
    "        x = self.flatten(x)\n",
    "        x = self.fc1(x)\n",
    "\n",
    "        return x"
   ]
  },
  {
   "cell_type": "code",
   "execution_count": 11,
   "id": "3e4f9f57",
   "metadata": {},
   "outputs": [],
   "source": [
    "n_classes = len(list(classes.keys()))\n",
    "device = \"cuda\" if torch.cuda.is_available() else \"cpu\"\n",
    "\n",
    "model = ResNet(residual_block=ResidualBlock, n_block_list=[2, 2, 2, 2], num_classes=n_classes).to(device)"
   ]
  },
  {
   "cell_type": "markdown",
   "id": "42e945ae",
   "metadata": {},
   "source": [
    "UTILS"
   ]
  },
  {
   "cell_type": "code",
   "execution_count": 12,
   "id": "ae2a7528",
   "metadata": {},
   "outputs": [],
   "source": [
    "# Evaluation function\n",
    "def evaluate(model, valid_dataloader, criterion, device):\n",
    "    model.eval()\n",
    "    correct = 0\n",
    "    total = 0\n",
    "    losses = []\n",
    "    with torch.no_grad():\n",
    "        valid_loader_tqdm = tqdm(valid_dataloader, desc=\"Validating\", leave=False)\n",
    "        for inputs, labels in valid_loader_tqdm:\n",
    "            inputs, labels = inputs.to(device), labels.to(device)\n",
    "            outputs = model(inputs)\n",
    "            loss = criterion(outputs, labels)\n",
    "            losses.append(loss.item())\n",
    "            _, predicted = torch.max(outputs.data, 1)\n",
    "            total += labels.size(0)\n",
    "            correct += (predicted == labels).sum().item()\n",
    "    loss = sum(losses) / len(losses)\n",
    "    accuracy = correct / total * 100\n",
    "    return loss, accuracy\n",
    "\n",
    "# Training function\n",
    "def train(\n",
    "        model, train_dataloader, valid_dataloader, criterion, optimizer, num_epochs=10, device=\"cuda\"\n",
    "):\n",
    "    train_losses = []\n",
    "    valid_losses = []\n",
    "    best_model_path = \"./model/best_model_weather_classification.pth\"\n",
    "\n",
    "    for epoch in tqdm(range(num_epochs), desc=\"Epochs\"):\n",
    "        batch_train_losses = []\n",
    "        model.train()\n",
    "\n",
    "        train_loader_tqdm = tqdm(train_dataloader, desc=f\"Epoch {epoch + 1}/{num_epochs} Training\", leave=False)\n",
    "        for idx, (inputs, labels) in enumerate(train_loader_tqdm):\n",
    "            inputs,labels = inputs.to(device), labels.to(device)\n",
    "\n",
    "            optimizer.zero_grad()\n",
    "            outputs = model(inputs)\n",
    "            loss = criterion(outputs, labels)\n",
    "            loss.backward()\n",
    "            optimizer.step()\n",
    "\n",
    "            batch_train_losses.append(loss.item())\n",
    "        train_loss = sum(batch_train_losses) / len(batch_train_losses)\n",
    "        train_losses.append(train_loss)\n",
    "\n",
    "        # Validation\n",
    "        valid_loss, valid_accuracy = evaluate(model, valid_dataloader, criterion, device)\n",
    "        valid_losses.append(valid_loss)\n",
    "        print(\n",
    "            f\"Train Loss: {train_loss:.4f}, \"\n",
    "            f\"Valid Loss: {valid_loss:.4f}, \"\n",
    "            f\"Valid Accuracy: {valid_accuracy:.2f}%\"\n",
    "        )\n",
    "        # Save the model\n",
    "        best_validation_loss = 100\n",
    "        if valid_loss < best_validation_loss:\n",
    "            best_validation_loss = valid_loss\n",
    "            torch.save(model.state_dict(), best_model_path)\n",
    "            print(f\"INFO: New best model saved at epoch {epoch + 1} with validation loss: {best_validation_loss:.4f}\")\n",
    "\n",
    "    print(\"Finished Training.\")\n",
    "    print(f\"Best model saved at '{best_model_path}' with validation loss: {best_validation_loss:.4f}\")\n",
    "    return train_losses, valid_losses\n",
    "            "
   ]
  },
  {
   "cell_type": "markdown",
   "id": "de3dd23c",
   "metadata": {},
   "source": [
    "TRAINING AND VALIDATION"
   ]
  },
  {
   "cell_type": "code",
   "execution_count": 13,
   "id": "4e578491",
   "metadata": {},
   "outputs": [
    {
     "name": "stderr",
     "output_type": "stream",
     "text": [
      "Epochs:  20%|██        | 1/5 [00:49<03:17, 49.39s/it]"
     ]
    },
    {
     "name": "stdout",
     "output_type": "stream",
     "text": [
      "Train Loss: 1.6694, Valid Loss: 2.6273, Valid Accuracy: 11.51%\n",
      "INFO: New best model saved at epoch 1 with validation loss: 2.6273\n"
     ]
    },
    {
     "name": "stderr",
     "output_type": "stream",
     "text": [
      "Epochs:  40%|████      | 2/5 [01:30<02:13, 44.42s/it]"
     ]
    },
    {
     "name": "stdout",
     "output_type": "stream",
     "text": [
      "Train Loss: 1.2170, Valid Loss: 2.0526, Valid Accuracy: 32.48%\n",
      "INFO: New best model saved at epoch 2 with validation loss: 2.0526\n"
     ]
    },
    {
     "name": "stderr",
     "output_type": "stream",
     "text": [
      "Epochs:  60%|██████    | 3/5 [02:11<01:26, 43.09s/it]"
     ]
    },
    {
     "name": "stdout",
     "output_type": "stream",
     "text": [
      "Train Loss: 1.1044, Valid Loss: 1.0908, Valid Accuracy: 61.25%\n",
      "INFO: New best model saved at epoch 3 with validation loss: 1.0908\n"
     ]
    },
    {
     "name": "stderr",
     "output_type": "stream",
     "text": [
      "Epochs:  80%|████████  | 4/5 [02:51<00:41, 41.93s/it]"
     ]
    },
    {
     "name": "stdout",
     "output_type": "stream",
     "text": [
      "Train Loss: 0.9923, Valid Loss: 1.2680, Valid Accuracy: 57.39%\n",
      "INFO: New best model saved at epoch 4 with validation loss: 1.2680\n"
     ]
    },
    {
     "name": "stderr",
     "output_type": "stream",
     "text": [
      "Epochs: 100%|██████████| 5/5 [03:35<00:00, 43.08s/it]"
     ]
    },
    {
     "name": "stdout",
     "output_type": "stream",
     "text": [
      "Train Loss: 0.9561, Valid Loss: 1.3533, Valid Accuracy: 54.99%\n",
      "INFO: New best model saved at epoch 5 with validation loss: 1.3533\n",
      "Finished Training.\n",
      "Best model saved at './model/best_model_weather_classification.pth' with validation loss: 1.3533\n"
     ]
    },
    {
     "name": "stderr",
     "output_type": "stream",
     "text": [
      "\n"
     ]
    },
    {
     "data": {
      "image/png": "[encoded data removed]",
      "text/plain": [
       "<Figure size 640x480 with 1 Axes>"
      ]
     },
     "metadata": {},
     "output_type": "display_data"
    }
   ],
   "source": [
    "LEARNING_RATE = 1e-2\n",
    "EPOCHS = 5\n",
    "criterion = nn.CrossEntropyLoss()\n",
    "optimizer = torch.optim.SGD(model.parameters(), lr=LEARNING_RATE)\n",
    "train_losses, valid_losses = train(\n",
    "    model,\n",
    "    train_loader,\n",
    "    val_loader,\n",
    "    criterion,\n",
    "    optimizer,\n",
    "    num_epochs=EPOCHS,\n",
    "    device=device\n",
    ")\n",
    "# Plotting the loss\n",
    "plt.plot(train_losses, label=\"Train Loss\")\n",
    "plt.plot(valid_losses, label=\"Validation Loss\")\n",
    "plt.title(\"Loss vs Epochs\")\n",
    "plt.xlabel(\"Epochs\")\n",
    "plt.ylabel(\"Loss\")\n",
    "plt.legend()\n",
    "plt.show()"
   ]
  },
  {
   "cell_type": "code",
   "execution_count": 14,
   "id": "647dfbeb",
   "metadata": {},
   "outputs": [
    {
     "name": "stderr",
     "output_type": "stream",
     "text": [
      "                                                           "
     ]
    },
    {
     "name": "stdout",
     "output_type": "stream",
     "text": [
      "Evaluation on test dataset\n",
      "Test accuracy 54.14847161572053\n"
     ]
    },
    {
     "name": "stderr",
     "output_type": "stream",
     "text": [
      "\r"
     ]
    }
   ],
   "source": [
    "test_loss, test_acc = evaluate(model, test_loader, criterion, device)\n",
    "print(\"Evaluation on test dataset\")\n",
    "print(\"Test accuracy\", test_acc)"
   ]
  }
 ],
 "metadata": {
  "kernelspec": {
   "display_name": "aio-hw2024",
   "language": "python",
   "name": "python3"
  },
  "language_info": {
   "codemirror_mode": {
    "name": "ipython",
    "version": 3
   },
   "file_extension": ".py",
   "mimetype": "text/x-python",
   "name": "python",
   "nbconvert_exporter": "python",
   "pygments_lexer": "ipython3",
   "version": "3.11.11"
  }
 },
 "nbformat": 4,
 "nbformat_minor": 5
}
