{
 "cells": [
  {
   "cell_type": "code",
   "execution_count": 1,
   "id": "f4a7dcc5",
   "metadata": {},
   "outputs": [],
   "source": [
    "import torch\n",
    "import torch.nn as nn\n",
    "import os\n",
    "import random\n",
    "import numpy as np\n",
    "import pandas as pd\n",
    "import matplotlib.pyplot as plt\n",
    "from tqdm import tqdm\n",
    "\n",
    "from PIL import Image\n",
    "from torch.utils.data import Dataset, DataLoader\n",
    "from sklearn.model_selection import train_test_split"
   ]
  },
  {
   "cell_type": "markdown",
   "id": "698d22c7",
   "metadata": {},
   "source": [
    "SEED"
   ]
  },
  {
   "cell_type": "code",
   "execution_count": 2,
   "id": "12491f01",
   "metadata": {},
   "outputs": [],
   "source": [
    "def set_seed(seed):\n",
    "    random.seed(seed)\n",
    "    np.random.seed(seed)\n",
    "    torch.manual_seed(seed)\n",
    "    torch.cuda.manual_seed_all(seed)\n",
    "    torch.cuda.manual_seed(seed)\n",
    "    torch.backends.cudnn.deterministic = True\n",
    "    torch.backends.cudnn.benchmark = False\n",
    "\n",
    "seed = 59\n",
    "set_seed(seed)"
   ]
  },
  {
   "cell_type": "markdown",
   "id": "06afdc52",
   "metadata": {},
   "source": [
    "PREPROCESSING"
   ]
  },
  {
   "cell_type": "code",
   "execution_count": 3,
   "id": "38c2d92e",
   "metadata": {},
   "outputs": [],
   "source": [
    "ROOT_DIR = \"./img_cls_scenes_classification/scenes_classification\"\n",
    "train_dir = os.path.join(ROOT_DIR, \"train\")\n",
    "test_dir = os.path.join(ROOT_DIR, \"val\")\n",
    "\n",
    "classes = {\n",
    "    label_idx : label for label_idx, label in enumerate(os.listdir(train_dir))\n",
    "}"
   ]
  },
  {
   "cell_type": "code",
   "execution_count": 4,
   "id": "12dc740a",
   "metadata": {},
   "outputs": [],
   "source": [
    "# Create a mapping of class names train and test directories\n",
    "x_train = []\n",
    "y_train = []\n",
    "x_test = []\n",
    "y_test = []\n",
    "\n",
    "for dataset_path in [train_dir, test_dir]:\n",
    "    for label_idx, class_name in classes.items():\n",
    "        class_dir = os.path.join(dataset_path, class_name)\n",
    "        for img_name in os.listdir(class_dir):\n",
    "            img_path = os.path.join(class_dir, img_name)\n",
    "            if dataset_path == train_dir:\n",
    "                x_train.append(img_path)\n",
    "                y_train.append(label_idx)\n",
    "            else:\n",
    "                x_test.append(img_path)\n",
    "                y_test.append(label_idx)"
   ]
  },
  {
   "cell_type": "code",
   "execution_count": 5,
   "id": "a0c073b2",
   "metadata": {},
   "outputs": [],
   "source": [
    "# Split the training data into training and validation sets\n",
    "seed = 0\n",
    "val_size = 0.2\n",
    "is_shuffle = True\n",
    "x_train, x_val, y_train, y_val = train_test_split(\n",
    "    x_train, y_train, test_size=val_size, random_state=seed, shuffle=is_shuffle\n",
    ")"
   ]
  },
  {
   "cell_type": "code",
   "execution_count": 6,
   "id": "ec64c819",
   "metadata": {},
   "outputs": [],
   "source": [
    "# Dataset class\n",
    "class ScenesDataset(Dataset):\n",
    "    def __init__(self, x, y, transform=None):\n",
    "        self.img_paths = x\n",
    "        self.labels = y\n",
    "        self.transform = transform\n",
    "\n",
    "    def __len__(self):\n",
    "        return len(self.img_paths)\n",
    "    \n",
    "    def __getitem__(self, idx):\n",
    "        img_path = self.img_paths[idx]\n",
    "        img = Image.open(img_path).convert(\"RGB\")\n",
    "\n",
    "        if self.transform:\n",
    "            img = self.transform(img)\n",
    "        \n",
    "        return img, self.labels[idx]\n",
    "    \n",
    "# Define the transformations\n",
    "def transform_img(img, size=(224, 224)):\n",
    "    img = img.resize(size)\n",
    "    img = np.array(img)[..., :3]  # Ensure 3 channels\n",
    "    img = img / 255.0\n",
    "    normalized_img = torch.tensor(img, dtype=torch.float32).permute(2, 0, 1)  # Convert to CxHxW\n",
    "    return normalized_img"
   ]
  },
  {
   "cell_type": "code",
   "execution_count": 7,
   "id": "8db138ac",
   "metadata": {},
   "outputs": [],
   "source": [
    "# Create datasets\n",
    "train_dataset = ScenesDataset(x_train, y_train, transform=transform_img)\n",
    "val_dataset = ScenesDataset(x_val, y_val, transform=transform_img)\n",
    "test_dataset = ScenesDataset(x_test, y_test, transform=transform_img)"
   ]
  },
  {
   "cell_type": "code",
   "execution_count": 8,
   "id": "9b9ddd5d",
   "metadata": {},
   "outputs": [],
   "source": [
    "# Create dataloaders\n",
    "train_batch_size = 32\n",
    "val_batch_size = 16\n",
    "test_batch_size = 16\n",
    "\n",
    "train_loader = DataLoader(train_dataset, batch_size=train_batch_size, shuffle=True)\n",
    "val_loader = DataLoader(val_dataset, batch_size=val_batch_size, shuffle=False)\n",
    "test_loader = DataLoader(test_dataset, batch_size=test_batch_size, shuffle=False)"
   ]
  },
  {
   "cell_type": "markdown",
   "id": "c9f97e1f",
   "metadata": {},
   "source": [
    "BUILDING MODEL DENSNET"
   ]
  },
  {
   "cell_type": "markdown",
   "id": "e5f1e624",
   "metadata": {},
   "source": [
    "Building Dense Block"
   ]
  },
  {
   "cell_type": "code",
   "execution_count": 9,
   "id": "fda3661d",
   "metadata": {},
   "outputs": [],
   "source": [
    "class BottleNeckBlock(nn.Module):\n",
    "    def __init__(self, in_channels, growth_rate):\n",
    "        super(BottleNeckBlock, self).__init__()\n",
    "        self.batch_norm1 = nn.BatchNorm2d(in_channels)\n",
    "        self.conv1 = nn.Conv2d(in_channels, 4 * growth_rate, kernel_size=1, bias=False)\n",
    "        self.batch_norm2 = nn.BatchNorm2d(4 * growth_rate)\n",
    "        self.conv2 = nn.Conv2d(4 * growth_rate, growth_rate, kernel_size=3, padding=1, bias=False)\n",
    "        self.relu = nn.ReLU(inplace=True)\n",
    "\n",
    "    def forward(self, x):\n",
    "        res = x.clone().detach()\n",
    "        x = self.batch_norm1(x)\n",
    "        x = self.relu(x)\n",
    "        x = self.conv1(x)\n",
    "        x = self.batch_norm2(x)\n",
    "        x = self.relu(x)\n",
    "        x = self.conv2(x)\n",
    "        x = torch.cat((x, res), dim=1)\n",
    "        return x\n",
    "    \n",
    "class DenseBlock(nn.Module):\n",
    "    def __init__(self, num_layers, in_channels, growth_rate):\n",
    "        super(DenseBlock, self).__init__()\n",
    "        layers = []\n",
    "        for i in range(num_layers):\n",
    "            layers.append(BottleNeckBlock(in_channels + i * growth_rate, growth_rate)) # core idea of dense block\n",
    "        self.block = nn.Sequential(*layers)\n",
    "\n",
    "    def forward(self, x):\n",
    "        return self.block(x)"
   ]
  },
  {
   "cell_type": "markdown",
   "id": "b48ba4f0",
   "metadata": {},
   "source": [
    "Building DenseNet"
   ]
  },
  {
   "cell_type": "code",
   "execution_count": 10,
   "id": "53881f75",
   "metadata": {},
   "outputs": [],
   "source": [
    "class DenseNet(nn.Module):\n",
    "    def __init__(self, num_blocks, growth_rate, num_classes):\n",
    "        super(DenseNet, self).__init__()\n",
    "        self.conv1 = nn.Conv2d(3, 2 * growth_rate, kernel_size=7, stride=2, padding=3, bias=False)\n",
    "        self.batch_norm1 = nn.BatchNorm2d(2 * growth_rate)\n",
    "        self.maxpooling1 = nn.MaxPool2d(kernel_size=3, stride=2, padding=1)\n",
    "        self.dense_blocks = nn.ModuleList()\n",
    "        in_channels = 2 * growth_rate\n",
    "        for i, num_layers in enumerate(num_blocks):\n",
    "            self.dense_blocks.append(DenseBlock(num_layers, in_channels, growth_rate))\n",
    "            in_channels += num_layers * growth_rate # this is the output channels of the dense block and stack channel of the block above\n",
    "            if i != len(num_blocks) - 1: # Check if not the last block\n",
    "                # Transition layer\n",
    "                # Reduce the number of channels by half and downsample\n",
    "                out_channels = in_channels // 2\n",
    "                self.dense_blocks.append(nn.Sequential(\n",
    "                    nn.BatchNorm2d(in_channels),\n",
    "                    nn.Conv2d(in_channels, out_channels, kernel_size=1, bias=False),\n",
    "                    nn.AvgPool2d(kernel_size=2, stride=2),\n",
    "                ))\n",
    "                in_channels = out_channels\n",
    "        self.batch_norm2 = nn.BatchNorm2d(in_channels)\n",
    "        self.avgpool2 = nn.AvgPool2d(kernel_size=7)\n",
    "        self.relu = nn.ReLU(inplace=True)\n",
    "        self.fc = nn.Linear(in_channels, num_classes)\n",
    "\n",
    "    def forward(self, x):\n",
    "        x = self.conv1(x)\n",
    "        x = self.batch_norm1(x)\n",
    "        x = self.relu(x)\n",
    "        x = self.maxpooling1(x)\n",
    "\n",
    "        for block in self.dense_blocks:\n",
    "            x = block(x)\n",
    "        x = self.batch_norm2(x)\n",
    "        x = self.relu(x)\n",
    "        x = self.avgpool2(x)\n",
    "        x = x.view(x.size(0), -1)\n",
    "        x = self.fc(x)\n",
    "        return x"
   ]
  },
  {
   "cell_type": "markdown",
   "id": "a2a80626",
   "metadata": {},
   "source": [
    "UTILS"
   ]
  },
  {
   "cell_type": "code",
   "execution_count": 11,
   "id": "f27a4ae3",
   "metadata": {},
   "outputs": [],
   "source": [
    "# Evaluation function\n",
    "def evaluate(model, valid_dataloader, criterion, device):\n",
    "    model.eval()\n",
    "    correct = 0\n",
    "    total = 0\n",
    "    losses = []\n",
    "    with torch.no_grad():\n",
    "        valid_loader_tqdm = tqdm(valid_dataloader, desc=\"Validating\", leave=False)\n",
    "        for inputs, labels in valid_loader_tqdm:\n",
    "            inputs, labels = inputs.to(device), labels.to(device)\n",
    "            outputs = model(inputs)\n",
    "            loss = criterion(outputs, labels)\n",
    "            losses.append(loss.item())\n",
    "            _, predicted = torch.max(outputs.data, 1)\n",
    "            total += labels.size(0)\n",
    "            correct += (predicted == labels).sum().item()\n",
    "    loss = sum(losses) / len(losses)\n",
    "    accuracy = correct / total * 100\n",
    "    return loss, accuracy\n",
    "\n",
    "# Training function\n",
    "def train(\n",
    "        model, train_dataloader, valid_dataloader, criterion, optimizer, num_epochs=10, device=\"cuda\"\n",
    "):\n",
    "    train_losses = []\n",
    "    valid_losses = []\n",
    "    best_model_path = \"./model/best_model_scene_classification.pth\"\n",
    "\n",
    "    for epoch in tqdm(range(num_epochs), desc=\"Epochs\"):\n",
    "        batch_train_losses = []\n",
    "        model.train()\n",
    "\n",
    "        train_loader_tqdm = tqdm(train_dataloader, desc=f\"Epoch {epoch + 1}/{num_epochs} Training\", leave=False)\n",
    "        for idx, (inputs, labels) in enumerate(train_loader_tqdm):\n",
    "            inputs,labels = inputs.to(device), labels.to(device)\n",
    "\n",
    "            optimizer.zero_grad()\n",
    "            outputs = model(inputs)\n",
    "            loss = criterion(outputs, labels)\n",
    "            loss.backward()\n",
    "            optimizer.step()\n",
    "\n",
    "            batch_train_losses.append(loss.item())\n",
    "        train_loss = sum(batch_train_losses) / len(batch_train_losses)\n",
    "        train_losses.append(train_loss)\n",
    "\n",
    "        # Validation\n",
    "        valid_loss, valid_accuracy = evaluate(model, valid_dataloader, criterion, device)\n",
    "        valid_losses.append(valid_loss)\n",
    "        print(\n",
    "            f\"Train Loss: {train_loss:.4f}, \"\n",
    "            f\"Valid Loss: {valid_loss:.4f}, \"\n",
    "            f\"Valid Accuracy: {valid_accuracy:.2f}%\"\n",
    "        )\n",
    "        # Save the model\n",
    "        best_validation_loss = 100\n",
    "        if valid_loss < best_validation_loss:\n",
    "            best_validation_loss = valid_loss\n",
    "            torch.save(model.state_dict(), best_model_path)\n",
    "            print(f\"INFO: New best model saved at epoch {epoch + 1} with validation loss: {best_validation_loss:.4f}\")\n",
    "\n",
    "    print(\"Finished Training.\")\n",
    "    print(f\"Best model saved at '{best_model_path}' with validation loss: {best_validation_loss:.4f}\")\n",
    "    return train_losses, valid_losses\n",
    "            "
   ]
  },
  {
   "cell_type": "code",
   "execution_count": 12,
   "id": "1a9ea337",
   "metadata": {},
   "outputs": [],
   "source": [
    "num_classes = len(list(classes.keys()))\n",
    "DEVICE = \"cuda\" if torch.cuda.is_available() else \"cpu\"\n",
    "\n",
    "model = DenseNet(num_blocks=[6, 12, 24, 16], growth_rate=32, num_classes=num_classes).to(DEVICE)\n",
    "\n",
    "LEARNING_RATE = 0.001\n",
    "epochs = 5\n",
    "criterion = nn.CrossEntropyLoss()\n",
    "optimizer = torch.optim.SGD(model.parameters(), lr=LEARNING_RATE)"
   ]
  },
  {
   "cell_type": "code",
   "execution_count": 13,
   "id": "79808958",
   "metadata": {},
   "outputs": [
    {
     "name": "stderr",
     "output_type": "stream",
     "text": [
      "Epochs:  20%|██        | 1/5 [01:34<06:17, 94.37s/it]"
     ]
    },
    {
     "name": "stdout",
     "output_type": "stream",
     "text": [
      "Train Loss: 1.6753, Valid Loss: 1.5646, Valid Accuracy: 44.18%\n",
      "INFO: New best model saved at epoch 1 with validation loss: 1.5646\n"
     ]
    },
    {
     "name": "stderr",
     "output_type": "stream",
     "text": [
      "Epochs:  40%|████      | 2/5 [03:05<04:37, 92.53s/it]"
     ]
    },
    {
     "name": "stdout",
     "output_type": "stream",
     "text": [
      "Train Loss: 1.5216, Valid Loss: 1.4524, Valid Accuracy: 51.94%\n",
      "INFO: New best model saved at epoch 2 with validation loss: 1.4524\n"
     ]
    },
    {
     "name": "stderr",
     "output_type": "stream",
     "text": [
      "Epochs:  60%|██████    | 3/5 [04:35<03:02, 91.14s/it]"
     ]
    },
    {
     "name": "stdout",
     "output_type": "stream",
     "text": [
      "Train Loss: 1.4374, Valid Loss: 1.3806, Valid Accuracy: 52.80%\n",
      "INFO: New best model saved at epoch 3 with validation loss: 1.3806\n"
     ]
    },
    {
     "name": "stderr",
     "output_type": "stream",
     "text": [
      "Epochs:  80%|████████  | 4/5 [06:07<01:31, 91.78s/it]"
     ]
    },
    {
     "name": "stdout",
     "output_type": "stream",
     "text": [
      "Train Loss: 1.3826, Valid Loss: 1.3308, Valid Accuracy: 54.40%\n",
      "INFO: New best model saved at epoch 4 with validation loss: 1.3308\n"
     ]
    },
    {
     "name": "stderr",
     "output_type": "stream",
     "text": [
      "Epochs: 100%|██████████| 5/5 [07:41<00:00, 92.23s/it]\n"
     ]
    },
    {
     "name": "stdout",
     "output_type": "stream",
     "text": [
      "Train Loss: 1.3359, Valid Loss: 1.2935, Valid Accuracy: 55.97%\n",
      "INFO: New best model saved at epoch 5 with validation loss: 1.2935\n",
      "Finished Training.\n",
      "Best model saved at './model/best_model_scene_classification.pth' with validation loss: 1.2935\n"
     ]
    },
    {
     "data": {
      "image/png": "[encoded data removed]",
      "text/plain": [
       "<Figure size 640x480 with 1 Axes>"
      ]
     },
     "metadata": {},
     "output_type": "display_data"
    }
   ],
   "source": [
    "train_losses, valid_losses = train(\n",
    "    model,\n",
    "    train_loader,\n",
    "    val_loader,\n",
    "    criterion,\n",
    "    optimizer,\n",
    "    num_epochs=epochs,\n",
    "    device=DEVICE\n",
    ")\n",
    "\n",
    "# Plotting the loss\n",
    "plt.plot(train_losses, label=\"Train Loss\")\n",
    "plt.plot(valid_losses, label=\"Validation Loss\")\n",
    "plt.title(\"Loss vs Epochs\")\n",
    "plt.xlabel(\"Epochs\")\n",
    "plt.ylabel(\"Loss\")\n",
    "plt.legend()\n",
    "plt.show()"
   ]
  },
  {
   "cell_type": "code",
   "execution_count": 14,
   "id": "b7017900",
   "metadata": {},
   "outputs": [
    {
     "name": "stderr",
     "output_type": "stream",
     "text": [
      "                                                             "
     ]
    },
    {
     "name": "stdout",
     "output_type": "stream",
     "text": [
      "Evaluation on test dataset\n",
      "Test accuracy 53.300000000000004\n"
     ]
    },
    {
     "name": "stderr",
     "output_type": "stream",
     "text": [
      "\r"
     ]
    }
   ],
   "source": [
    "test_loss, test_acc = evaluate(model, test_loader, criterion, DEVICE)\n",
    "print(\"Evaluation on test dataset\")\n",
    "print(\"Test accuracy\", test_acc)"
   ]
  }
 ],
 "metadata": {
  "kernelspec": {
   "display_name": "aio-hw2024",
   "language": "python",
   "name": "python3"
  },
  "language_info": {
   "codemirror_mode": {
    "name": "ipython",
    "version": 3
   },
   "file_extension": ".py",
   "mimetype": "text/x-python",
   "name": "python",
   "nbconvert_exporter": "python",
   "pygments_lexer": "ipython3",
   "version": "3.11.11"
  }
 },
 "nbformat": 4,
 "nbformat_minor": 5
}
